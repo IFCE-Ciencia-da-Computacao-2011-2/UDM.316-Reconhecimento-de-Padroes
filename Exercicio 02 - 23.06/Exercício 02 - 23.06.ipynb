{
 "cells": [
  {
   "cell_type": "markdown",
   "metadata": {},
   "source": [
    "# Exercício 02 - 23.06\n",
    "\n",
    "* **1 Ponto** na média final da Disciplina\n",
    "* **Entrega:** Primeiro de Julho\n",
    "\n",
    "## Questões\n",
    "\n",
    "### Barber's Book\n",
    "\n",
    "* 1.1, 1.2, 1.6, 1.8, 1.10, 1.18\n",
    "\n",
    "### Daphne Books\n",
    "\n",
    "* 2.1, 2.2, 2.6, 2.11"
   ]
  }
 ],
 "metadata": {
  "anaconda-cloud": {},
  "kernelspec": {
   "display_name": "Python [conda root]",
   "language": "python",
   "name": "conda-root-py"
  },
  "language_info": {
   "codemirror_mode": {
    "name": "ipython",
    "version": 3
   },
   "file_extension": ".py",
   "mimetype": "text/x-python",
   "name": "python",
   "nbconvert_exporter": "python",
   "pygments_lexer": "ipython3",
   "version": "3.5.2"
  }
 },
 "nbformat": 4,
 "nbformat_minor": 2
}
