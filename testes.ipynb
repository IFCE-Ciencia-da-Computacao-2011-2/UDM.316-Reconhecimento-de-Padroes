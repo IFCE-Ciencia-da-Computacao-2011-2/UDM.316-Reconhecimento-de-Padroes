{
 "cells": [
  {
   "cell_type": "code",
   "execution_count": 1,
   "metadata": {},
   "outputs": [
    {
     "data": {
      "text/html": [
       "<div>\n",
       "<table border=\"1\" class=\"dataframe\">\n",
       "  <thead>\n",
       "    <tr style=\"text-align: right;\">\n",
       "      <th></th>\n",
       "      <th></th>\n",
       "      <th></th>\n",
       "      <th>value</th>\n",
       "    </tr>\n",
       "    <tr>\n",
       "      <th>A</th>\n",
       "      <th>B</th>\n",
       "      <th>C</th>\n",
       "      <th></th>\n",
       "    </tr>\n",
       "  </thead>\n",
       "  <tbody>\n",
       "    <tr>\n",
       "      <th rowspan=\"4\" valign=\"top\">a1</th>\n",
       "      <th rowspan=\"2\" valign=\"top\">b1</th>\n",
       "      <th>c1</th>\n",
       "      <td>0.125</td>\n",
       "    </tr>\n",
       "    <tr>\n",
       "      <th>c2</th>\n",
       "      <td>0.125</td>\n",
       "    </tr>\n",
       "    <tr>\n",
       "      <th rowspan=\"2\" valign=\"top\">b2</th>\n",
       "      <th>c1</th>\n",
       "      <td>0.125</td>\n",
       "    </tr>\n",
       "    <tr>\n",
       "      <th>c2</th>\n",
       "      <td>0.125</td>\n",
       "    </tr>\n",
       "    <tr>\n",
       "      <th rowspan=\"4\" valign=\"top\">a2</th>\n",
       "      <th rowspan=\"2\" valign=\"top\">b1</th>\n",
       "      <th>c1</th>\n",
       "      <td>0.125</td>\n",
       "    </tr>\n",
       "    <tr>\n",
       "      <th>c2</th>\n",
       "      <td>0.125</td>\n",
       "    </tr>\n",
       "    <tr>\n",
       "      <th rowspan=\"2\" valign=\"top\">b2</th>\n",
       "      <th>c1</th>\n",
       "      <td>0.125</td>\n",
       "    </tr>\n",
       "    <tr>\n",
       "      <th>c2</th>\n",
       "      <td>0.125</td>\n",
       "    </tr>\n",
       "  </tbody>\n",
       "</table>\n",
       "</div>"
      ],
      "text/plain": [
       "          value\n",
       "A  B  C        \n",
       "a1 b1 c1  0.125\n",
       "      c2  0.125\n",
       "   b2 c1  0.125\n",
       "      c2  0.125\n",
       "a2 b1 c1  0.125\n",
       "      c2  0.125\n",
       "   b2 c1  0.125\n",
       "      c2  0.125"
      ]
     },
     "execution_count": 1,
     "metadata": {},
     "output_type": "execute_result"
    }
   ],
   "source": [
    "# https://bitbucket.org/piedenis/lea/wiki/LeaPyTutorial1\n",
    "# https://drive.google.com/file/d/0B1_ICcQCs7gebF9uVGdNdG1nR0E/view\n",
    "\n",
    "import pandas as pd\n",
    "import numpy as np\n",
    "\n",
    "data = [\n",
    "    ['a1', 'b1', 'c1', 1/8],\n",
    "    ['a1', 'b1', 'c2', 1/8],\n",
    "    ['a1', 'b2', 'c1', 1/8],\n",
    "    ['a1', 'b2', 'c2', 1/8],\n",
    "    ['a2', 'b1', 'c1', 1/8],\n",
    "    ['a2', 'b1', 'c2', 1/8],\n",
    "    ['a2', 'b2', 'c1', 1/8],\n",
    "    ['a2', 'b2', 'c2', 1/8],\n",
    "]\n",
    "\n",
    "df = pd.DataFrame(data, columns=['A', 'B', 'C', 'value'])\n",
    "df.set_index(list(df.columns[0:-1]))"
   ]
  },
  {
   "cell_type": "code",
   "execution_count": 2,
   "metadata": {},
   "outputs": [
    {
     "name": "stdout",
     "output_type": "stream",
     "text": [
      "<class 'pandas.core.frame.DataFrame'>\n"
     ]
    },
    {
     "data": {
      "text/plain": [
       "A   B   C \n",
       "a1  b1  c1    0.125\n",
       "        c2    0.125\n",
       "    b2  c1    0.125\n",
       "        c2    0.125\n",
       "a2  b1  c1    0.125\n",
       "        c2    0.125\n",
       "    b2  c1    0.125\n",
       "        c2    0.125\n",
       "Name: value, dtype: float64"
      ]
     },
     "execution_count": 2,
     "metadata": {},
     "output_type": "execute_result"
    }
   ],
   "source": [
    "df2 = df.groupby(['A', 'B', 'C']).sum()\n",
    "print(type(df2))\n",
    "series = df2.T.iloc[0]\n",
    "series"
   ]
  },
  {
   "cell_type": "code",
   "execution_count": 3,
   "metadata": {},
   "outputs": [
    {
     "data": {
      "text/plain": [
       "B   C \n",
       "b1  c1    0.041667\n",
       "    c2    0.041667\n",
       "b2  c1    0.041667\n",
       "    c2    0.041667\n",
       "Name: value, dtype: float64"
      ]
     },
     "execution_count": 3,
     "metadata": {},
     "output_type": "execute_result"
    }
   ],
   "source": [
    "series['a1'] / 3"
   ]
  },
  {
   "cell_type": "code",
   "execution_count": 4,
   "metadata": {},
   "outputs": [
    {
     "data": {
      "text/plain": [
       "FrozenList(['Coin'])"
      ]
     },
     "execution_count": 4,
     "metadata": {},
     "output_type": "execute_result"
    }
   ],
   "source": [
    "series = [\n",
    "    1,\n",
    "    0,\n",
    "    0,\n",
    "    1,\n",
    "    1\n",
    "]\n",
    "\n",
    "s = pd.Series(series, index=pd.Index(['head', 'tail', 'tail', 'head', 'head'], name='Coin'))\n",
    "s.groupby(s.index).sum()\n",
    "\n",
    "i = s.index\n",
    "i.names"
   ]
  },
  {
   "cell_type": "code",
   "execution_count": 5,
   "metadata": {},
   "outputs": [
    {
     "data": {
      "text/plain": [
       "0.5"
      ]
     },
     "execution_count": 5,
     "metadata": {},
     "output_type": "execute_result"
    }
   ],
   "source": [
    "df[df.A == 'a1'].value.sum() / df.value.sum()"
   ]
  },
  {
   "cell_type": "code",
   "execution_count": 6,
   "metadata": {},
   "outputs": [
    {
     "data": {
      "text/html": [
       "<div>\n",
       "<table border=\"1\" class=\"dataframe\">\n",
       "  <thead>\n",
       "    <tr style=\"text-align: right;\">\n",
       "      <th></th>\n",
       "      <th></th>\n",
       "      <th></th>\n",
       "      <th>value</th>\n",
       "    </tr>\n",
       "    <tr>\n",
       "      <th>A</th>\n",
       "      <th>B</th>\n",
       "      <th>C</th>\n",
       "      <th></th>\n",
       "    </tr>\n",
       "  </thead>\n",
       "  <tbody>\n",
       "    <tr>\n",
       "      <th rowspan=\"4\" valign=\"top\">a1</th>\n",
       "      <th rowspan=\"2\" valign=\"top\">b1</th>\n",
       "      <th>c1</th>\n",
       "      <td>0.125</td>\n",
       "    </tr>\n",
       "    <tr>\n",
       "      <th>c2</th>\n",
       "      <td>0.125</td>\n",
       "    </tr>\n",
       "    <tr>\n",
       "      <th rowspan=\"2\" valign=\"top\">b2</th>\n",
       "      <th>c1</th>\n",
       "      <td>0.125</td>\n",
       "    </tr>\n",
       "    <tr>\n",
       "      <th>c2</th>\n",
       "      <td>0.125</td>\n",
       "    </tr>\n",
       "  </tbody>\n",
       "</table>\n",
       "</div>"
      ],
      "text/plain": [
       "          value\n",
       "A  B  C        \n",
       "a1 b1 c1  0.125\n",
       "      c2  0.125\n",
       "   b2 c1  0.125\n",
       "      c2  0.125"
      ]
     },
     "execution_count": 6,
     "metadata": {},
     "output_type": "execute_result"
    }
   ],
   "source": [
    "df[:][df.A=='a1'].set_index(list(df.columns[0:-1]))"
   ]
  },
  {
   "cell_type": "code",
   "execution_count": 7,
   "metadata": {},
   "outputs": [
    {
     "data": {
      "text/html": [
       "<div>\n",
       "<table border=\"1\" class=\"dataframe\">\n",
       "  <thead>\n",
       "    <tr style=\"text-align: right;\">\n",
       "      <th></th>\n",
       "      <th></th>\n",
       "      <th>value</th>\n",
       "    </tr>\n",
       "    <tr>\n",
       "      <th>A</th>\n",
       "      <th>B</th>\n",
       "      <th></th>\n",
       "    </tr>\n",
       "  </thead>\n",
       "  <tbody>\n",
       "    <tr>\n",
       "      <th rowspan=\"2\" valign=\"top\">a1</th>\n",
       "      <th>b1</th>\n",
       "      <td>0.25</td>\n",
       "    </tr>\n",
       "    <tr>\n",
       "      <th>b2</th>\n",
       "      <td>0.25</td>\n",
       "    </tr>\n",
       "    <tr>\n",
       "      <th rowspan=\"2\" valign=\"top\">a2</th>\n",
       "      <th>b1</th>\n",
       "      <td>0.25</td>\n",
       "    </tr>\n",
       "    <tr>\n",
       "      <th>b2</th>\n",
       "      <td>0.25</td>\n",
       "    </tr>\n",
       "  </tbody>\n",
       "</table>\n",
       "</div>"
      ],
      "text/plain": [
       "       value\n",
       "A  B        \n",
       "a1 b1   0.25\n",
       "   b2   0.25\n",
       "a2 b1   0.25\n",
       "   b2   0.25"
      ]
     },
     "execution_count": 7,
     "metadata": {},
     "output_type": "execute_result"
    }
   ],
   "source": [
    "df.groupby(['A', 'B']).sum()"
   ]
  },
  {
   "cell_type": "code",
   "execution_count": 8,
   "metadata": {},
   "outputs": [
    {
     "data": {
      "text/html": [
       "<div>\n",
       "<table border=\"1\" class=\"dataframe\">\n",
       "  <thead>\n",
       "    <tr style=\"text-align: right;\">\n",
       "      <th></th>\n",
       "      <th>value</th>\n",
       "    </tr>\n",
       "    <tr>\n",
       "      <th>A</th>\n",
       "      <th></th>\n",
       "    </tr>\n",
       "  </thead>\n",
       "  <tbody>\n",
       "    <tr>\n",
       "      <th>a1</th>\n",
       "      <td>0.5</td>\n",
       "    </tr>\n",
       "    <tr>\n",
       "      <th>a2</th>\n",
       "      <td>0.5</td>\n",
       "    </tr>\n",
       "  </tbody>\n",
       "</table>\n",
       "</div>"
      ],
      "text/plain": [
       "    value\n",
       "A        \n",
       "a1    0.5\n",
       "a2    0.5"
      ]
     },
     "execution_count": 8,
     "metadata": {},
     "output_type": "execute_result"
    }
   ],
   "source": [
    "actual = df.groupby(['A']).sum()\n",
    "actual"
   ]
  },
  {
   "cell_type": "code",
   "execution_count": 9,
   "metadata": {},
   "outputs": [
    {
     "data": {
      "text/html": [
       "<div>\n",
       "<table border=\"1\" class=\"dataframe\">\n",
       "  <thead>\n",
       "    <tr style=\"text-align: right;\">\n",
       "      <th></th>\n",
       "      <th>A</th>\n",
       "      <th>value</th>\n",
       "    </tr>\n",
       "  </thead>\n",
       "  <tbody>\n",
       "    <tr>\n",
       "      <th>0</th>\n",
       "      <td>a1</td>\n",
       "      <td>0.5</td>\n",
       "    </tr>\n",
       "    <tr>\n",
       "      <th>1</th>\n",
       "      <td>a2</td>\n",
       "      <td>0.5</td>\n",
       "    </tr>\n",
       "  </tbody>\n",
       "</table>\n",
       "</div>"
      ],
      "text/plain": [
       "    A  value\n",
       "0  a1    0.5\n",
       "1  a2    0.5"
      ]
     },
     "execution_count": 9,
     "metadata": {},
     "output_type": "execute_result"
    }
   ],
   "source": [
    "expected = pd.DataFrame([\n",
    "    ['a1', 0.5],\n",
    "    ['a2', 0.5]\n",
    "], columns=['A', 'value'])\n",
    "expected"
   ]
  },
  {
   "cell_type": "code",
   "execution_count": 10,
   "metadata": {},
   "outputs": [
    {
     "data": {
      "text/plain": [
       "True"
      ]
     },
     "execution_count": 10,
     "metadata": {},
     "output_type": "execute_result"
    }
   ],
   "source": [
    "expected.set_index('A').equals(actual)"
   ]
  },
  {
   "cell_type": "code",
   "execution_count": 11,
   "metadata": {},
   "outputs": [
    {
     "data": {
      "text/html": [
       "<div>\n",
       "<table border=\"1\" class=\"dataframe\">\n",
       "  <thead>\n",
       "    <tr style=\"text-align: right;\">\n",
       "      <th></th>\n",
       "      <th>A</th>\n",
       "      <th>B</th>\n",
       "      <th>C</th>\n",
       "      <th>value</th>\n",
       "    </tr>\n",
       "  </thead>\n",
       "  <tbody>\n",
       "    <tr>\n",
       "      <th>0</th>\n",
       "      <td>a1</td>\n",
       "      <td>b1</td>\n",
       "      <td>c1</td>\n",
       "      <td>0.5</td>\n",
       "    </tr>\n",
       "    <tr>\n",
       "      <th>1</th>\n",
       "      <td>a1</td>\n",
       "      <td>b1</td>\n",
       "      <td>c2</td>\n",
       "      <td>0.5</td>\n",
       "    </tr>\n",
       "  </tbody>\n",
       "</table>\n",
       "</div>"
      ],
      "text/plain": [
       "    A   B   C  value\n",
       "0  a1  b1  c1    0.5\n",
       "1  a1  b1  c2    0.5"
      ]
     },
     "execution_count": 11,
     "metadata": {},
     "output_type": "execute_result"
    }
   ],
   "source": [
    "a = df[(df.A=='a1') & (df.B=='b1')].copy()\n",
    "total = a.value.sum()\n",
    "\n",
    "a.value = a.value / total\n",
    "a"
   ]
  },
  {
   "cell_type": "code",
   "execution_count": 12,
   "metadata": {},
   "outputs": [
    {
     "ename": "SyntaxError",
     "evalue": "invalid syntax (<ipython-input-12-b22d23a62ad2>, line 28)",
     "output_type": "error",
     "traceback": [
      "\u001b[0;36m  File \u001b[0;32m\"<ipython-input-12-b22d23a62ad2>\"\u001b[0;36m, line \u001b[0;32m28\u001b[0m\n\u001b[0;31m    X xor Y\u001b[0m\n\u001b[0m        ^\u001b[0m\n\u001b[0;31mSyntaxError\u001b[0m\u001b[0;31m:\u001b[0m invalid syntax\n"
     ]
    }
   ],
   "source": [
    "class RandomVariable(object):\n",
    "\n",
    "    def __init__(self, name):\n",
    "        self.name = name\n",
    "\n",
    "    def __eq__(self, other):\n",
    "        if type(other) == RandomVariable:\n",
    "            return self.name == other.name\n",
    "        else:\n",
    "            return RandomVariableEvent(self, other)\n",
    "\n",
    "    def __repr__(self):\n",
    "        return self.name\n",
    "\n",
    "    def __or__(self, other):\n",
    "        #print('casados')\n",
    "        #print(self, other)\n",
    "        pass\n",
    "        \n",
    "    def __bool__(self):\n",
    "        print(self, 'asd')\n",
    "        return False\n",
    "\n",
    "X = RandomVariable('X')\n",
    "Y = RandomVariable('Y')\n",
    "\n",
    "#X | Y\n",
    "X xor Y"
   ]
  },
  {
   "cell_type": "code",
   "execution_count": null,
   "metadata": {},
   "outputs": [],
   "source": [
    "d = df[(df.A=='a1') & (df.B=='b1')]\n",
    "d.to_panel()"
   ]
  },
  {
   "cell_type": "code",
   "execution_count": null,
   "metadata": {},
   "outputs": [],
   "source": [
    "from typing import overload\n",
    "\n",
    "class Test:\n",
    "    \n",
    "    @overload\n",
    "    def test(self: Test, name: str):\n",
    "        print('string', name)\n",
    "        \n",
    "    @overload\n",
    "    def test(self: Test, name: int):\n",
    "        print('int', name)\n",
    "        \n",
    "    def test(self, name):\n",
    "        print('default', name)\n",
    "  \n",
    "@overload\n",
    "def test(name: str) -> None:\n",
    "    print('string', name)\n",
    "\n",
    "@overload\n",
    "def test(name: int) -> None:\n",
    "    print('int', name)\n",
    "\n",
    "def test(name):\n",
    "    print('default', name)\n",
    "\n",
    "test('casa')\n",
    "test(3)\n",
    "test(None)\n",
    "\n",
    "t = Test()\n",
    "t.test('casa')\n",
    "t.test(3)\n",
    "t.test(None)"
   ]
  },
  {
   "cell_type": "code",
   "execution_count": null,
   "metadata": {},
   "outputs": [],
   "source": [
    "@overload\n",
    "def utf8(value: None) -> None:\n",
    "    pass\n",
    "@overload\n",
    "def utf8(value: bytes) -> bytes:\n",
    "    pass\n",
    "@overload\n",
    "def utf8(value: int) -> bytes:\n",
    "    pass\n",
    "\n",
    "def utf8(value):\n",
    "    print(value)\n",
    "\n",
    "utf8(None)"
   ]
  },
  {
   "cell_type": "code",
   "execution_count": null,
   "metadata": {},
   "outputs": [],
   "source": [
    "from collections import Counter\n",
    "\n",
    "c = Counter(dog=3, cat=4)\n",
    "\n",
    "[[key, c[key]] for key in c]"
   ]
  },
  {
   "cell_type": "code",
   "execution_count": null,
   "metadata": {},
   "outputs": [],
   "source": [
    "df.keys()\n",
    "df.max()"
   ]
  },
  {
   "cell_type": "code",
   "execution_count": null,
   "metadata": {},
   "outputs": [],
   "source": [
    "data = [\n",
    "    ['low',  'A', 0.07],\n",
    "    ['low',  'B', 0.28],\n",
    "    ['low',  'C', 0.35],\n",
    "    ['high', 'A', 0.18],\n",
    "    ['high', 'B', 0.09],\n",
    "    ['high', 'C', 0.03],\n",
    "]\n",
    "\n",
    "variables = ['Intelligence', 'Grade', 'probability']\n",
    "i = pd.DataFrame(data, columns=variables)\n",
    "i = i.set_index(keys=list(i.columns[:-1]))\n",
    "i"
   ]
  },
  {
   "cell_type": "code",
   "execution_count": null,
   "metadata": {},
   "outputs": [],
   "source": [
    "i.groupby(\n",
    "    [\n",
    "        i.index.get_level_values('Intelligence'),\n",
    "        i.index.get_level_values('Grade'),\n",
    "    ]\n",
    ").sum()"
   ]
  },
  {
   "cell_type": "code",
   "execution_count": null,
   "metadata": {},
   "outputs": [],
   "source": [
    "5 < np.linspace(0, 20, 11) < 10"
   ]
  },
  {
   "cell_type": "code",
   "execution_count": null,
   "metadata": {},
   "outputs": [],
   "source": [
    "x = np.linspace(0, 20, 11)\n",
    "np.sum((5 < x) & (x < 15))"
   ]
  },
  {
   "cell_type": "code",
   "execution_count": null,
   "metadata": {},
   "outputs": [],
   "source": [
    "pd.__version__"
   ]
  },
  {
   "cell_type": "code",
   "execution_count": null,
   "metadata": {},
   "outputs": [],
   "source": [
    "arrays = [['bar', 'bar', 'baz', 'baz', 'foo', 'foo', 'qux', 'qux'],\n",
    "          ['one', 'two', 'one', 'two', 'one', 'two', 'one', 'two']]\n",
    "\n",
    "tuples = list(zip(*arrays))\n",
    "tuples\n",
    "\n",
    "index = pd.MultiIndex.from_tuples(tuples, names=['first', 'second'])\n",
    "index"
   ]
  },
  {
   "cell_type": "code",
   "execution_count": null,
   "metadata": {},
   "outputs": [],
   "source": [
    "s = pd.Series(np.random.randn(8), index=index)\n",
    "s"
   ]
  },
  {
   "cell_type": "code",
   "execution_count": null,
   "metadata": {},
   "outputs": [],
   "source": [
    "s['bar':'foo']"
   ]
  },
  {
   "cell_type": "code",
   "execution_count": null,
   "metadata": {},
   "outputs": [],
   "source": [
    "s['bar'].sum()"
   ]
  },
  {
   "cell_type": "code",
   "execution_count": null,
   "metadata": {},
   "outputs": [],
   "source": [
    "from collections import Counter\n",
    "\n",
    "c = Counter(a=4, b=2, c=0, d=-2)\n",
    "list(c.elements())\n",
    "c.fromkeys()"
   ]
  },
  {
   "cell_type": "code",
   "execution_count": null,
   "metadata": {},
   "outputs": [],
   "source": [
    "data = [['head', 1],\n",
    " ['tails', 1],\n",
    " ['head', 1],\n",
    " ['tails', 1],\n",
    " ['head', 1],\n",
    " ['tails', 1]]\n",
    "\n",
    "df = pd.DataFrame(data, columns=list(['Coin']) + ['probability'])\n",
    "\n",
    "df.groupby(list(df.columns[:-1])).sum().T.iloc[0]"
   ]
  },
  {
   "cell_type": "code",
   "execution_count": null,
   "metadata": {},
   "outputs": [],
   "source": [
    "data = pd.Series(['Paulo', 2], dtype=('U10', float))\n",
    "data"
   ]
  },
  {
   "cell_type": "code",
   "execution_count": null,
   "metadata": {},
   "outputs": [],
   "source": [
    "d = np.dtype({\n",
    "    'names': ('Coin', 'House', 'probability'),\n",
    "    'formats': ('U2', 'U2', 'f')\n",
    "})\n",
    "\n",
    "lista = [\n",
    "    ['a', 'b', 3],\n",
    "    ['a', 'c', 3],\n",
    "    ['e', 'd', 3]\n",
    "]\n",
    "array = np.asarray([tuple(e) for e in lista], dtype=d)\n",
    "array"
   ]
  },
  {
   "cell_type": "code",
   "execution_count": null,
   "metadata": {},
   "outputs": [],
   "source": [
    "array[:]"
   ]
  },
  {
   "cell_type": "code",
   "execution_count": null,
   "metadata": {},
   "outputs": [],
   "source": [
    "lista = [\n",
    "    ['a', 'b', 3],\n",
    "    ['a', 'c', 3],\n",
    "    ['e', 'd', 3]\n",
    "]\n",
    "array = np.asarray([tuple(e) for e in lista])\n",
    "array[:, 0]"
   ]
  },
  {
   "cell_type": "code",
   "execution_count": null,
   "metadata": {},
   "outputs": [],
   "source": [
    "s = pd.Series(index=pd.Index([], name=['Coin', 'Die']))\n",
    "s2 = pd.Series(['head', 3], index=pd.Index([], name=['Coin', 'Die']))"
   ]
  },
  {
   "cell_type": "code",
   "execution_count": null,
   "metadata": {},
   "outputs": [],
   "source": [
    "columns = [\n",
    "    ['head', 'tail', 'head'],\n",
    "    ['two', 'three', 'four'],\n",
    "]\n",
    "\n",
    "columns = list(zip(*columns))\n",
    "\n",
    "index = pd.MultiIndex.from_tuples(columns, names=['Coin', 'Die'])\n",
    "#index = pd.Index(columns, name='Coin')\n",
    "\n",
    "pd.Series([2, 3, 4], index=index)"
   ]
  },
  {
   "cell_type": "code",
   "execution_count": null,
   "metadata": {},
   "outputs": [],
   "source": [
    "columns = [\n",
    "    'head'\n",
    "    'tail'\n",
    "]\n",
    "\n",
    "index = pd.MultiIndex.from_arrays(columns, names=['Coin'])\n",
    "#index = pd.Index(columns, name='Coin')\n",
    "\n",
    "pd.Series([2, 3], index=index)"
   ]
  },
  {
   "cell_type": "code",
   "execution_count": null,
   "metadata": {},
   "outputs": [],
   "source": [
    "from functools import reduce\n",
    "\n",
    "reduce(lambda a, b: print(a, b), [0,1,2], 4)"
   ]
  },
  {
   "cell_type": "code",
   "execution_count": null,
   "metadata": {},
   "outputs": [],
   "source": [
    "from probability.experiment import Occurrence, Experiment\n",
    "\n",
    "expected = [\n",
    "    Occurrence('a1'),\n",
    "    Occurrence('a1'),\n",
    "    Occurrence('a2'),\n",
    "    #Occurrence(['a1', 'b1', 'c1']),\n",
    "    #Occurrence(['a1', 'b1', 'c2'], 3),\n",
    "    #Occurrence(['a1', 'b2', 'c1']),\n",
    "    #Occurrence(['a1', 'b2', 'c1']),\n",
    "]\n",
    "\n",
    "#experiment = Experiment('A', 'B', 'C')\n",
    "experiment = Experiment('A')\n",
    "\n",
    "for occurrence in expected:\n",
    "    experiment.register(occurrence)\n",
    "\n",
    "series = experiment.to_series()\n",
    "#series.index.groupby(series.index)\n",
    "series\n"
   ]
  },
  {
   "cell_type": "code",
   "execution_count": null,
   "metadata": {},
   "outputs": [],
   "source": [
    "#series.groupby(('A', 'B', 'C')).sum()\n",
    "series.index.values"
   ]
  },
  {
   "cell_type": "code",
   "execution_count": null,
   "metadata": {},
   "outputs": [],
   "source": [
    "series.groupby(level=series.index.names).sum()"
   ]
  },
  {
   "cell_type": "code",
   "execution_count": null,
   "metadata": {
    "collapsed": true
   },
   "outputs": [],
   "source": []
  }
 ],
 "metadata": {
  "anaconda-cloud": {},
  "kernelspec": {
   "display_name": "Python [conda root]",
   "language": "python",
   "name": "conda-root-py"
  },
  "language_info": {
   "codemirror_mode": {
    "name": "ipython",
    "version": 3
   },
   "file_extension": ".py",
   "mimetype": "text/x-python",
   "name": "python",
   "nbconvert_exporter": "python",
   "pygments_lexer": "ipython3",
   "version": "3.5.2"
  }
 },
 "nbformat": 4,
 "nbformat_minor": 2
}
