{
 "cells": [
  {
   "cell_type": "markdown",
   "metadata": {},
   "source": [
    "## Exercise 3.12.\n",
    "\n",
    "Given two belief networks represented as DAGs with associated adjacency matrices A and\n",
    "B, write a MATLAB function MarkovEquiv(A,B).m that returns 1 if A and B are Markov equivalent, and\n",
    "zero otherwise."
   ]
  },
  {
   "cell_type": "code",
   "execution_count": 27,
   "metadata": {},
   "outputs": [],
   "source": [
    "import numpy as np\n",
    "\n",
    "\n",
    "def is_skeleton_equals(A, B):\n",
    "    return (skeleton(A) == skeleton(B)).all()\n",
    "\n",
    "def skeleton(A):\n",
    "    matrix = np.matrix(A)\n",
    "    return matrix | matrix.T"
   ]
  },
  {
   "cell_type": "code",
   "execution_count": 12,
   "metadata": {},
   "outputs": [
    {
     "data": {
      "text/plain": [
       "True"
      ]
     },
     "execution_count": 12,
     "metadata": {},
     "output_type": "execute_result"
    }
   ],
   "source": [
    "matrix = [[1, 0, 1],\n",
    "        [0, 0, 0],\n",
    "        [0, 0, 0]]\n",
    "\n",
    "matrix2 = [[1, 0, 0],\n",
    "        [0, 0, 0],\n",
    "        [1, 0, 0]]\n",
    "\n",
    "is_skeleton_equals(matrix, matrix2)"
   ]
  },
  {
   "cell_type": "code",
   "execution_count": 79,
   "metadata": {},
   "outputs": [
    {
     "name": "stdout",
     "output_type": "stream",
     "text": [
      "Parents: [2]\n",
      "Pair of Parents: [(1, 2), (1, 3), (1, 4), (2, 3), (2, 4), (3, 4)]\n",
      "Are married: False\n",
      "Are married: True\n",
      "Are married: True\n"
     ]
    }
   ],
   "source": [
    "def immorallities(A):\n",
    "    immorallities = []\n",
    "    A_parents = np.matrix(A).T.tolist()\n",
    "    \n",
    "    for node in range(len(A)):\n",
    "        parents_A = parents(A_parents[node])\n",
    "\n",
    "        for parent_a, parent_b in pair_of_parents(parents_A):\n",
    "            print(parent_a, parent_b)\n",
    "            if not are_married(Aparent_a, parent_b):\n",
    "                immorallities.append(pair)\n",
    "    \n",
    "    return immorallities\n",
    "\n",
    "def parents(parents):\n",
    "    parents_index = []\n",
    "    \n",
    "    for index, parent in enumerate(parents):\n",
    "        if parent == 1:\n",
    "            parents_index.append(index)\n",
    "\n",
    "    return parents_index\n",
    "\n",
    "def pair_of_parents(lista):\n",
    "    return [(lista[x], y) for x in range(len(lista)) for y in lista[x+1:] if x != y]\n",
    "\n",
    "def are_married(matrix, parent_a, parent_b):\n",
    "    return matrix[parent_a][parent_b] == 1 \\\n",
    "        or matrix[parent_b][parent_a] == 1\n",
    "    \n",
    "print('Parents:', parents([0,0,1,0,0]))\n",
    "print('Pair of Parents:', pair_of_parents([1, 2, 3, 4]))\n",
    "\n",
    "example_1 = [\n",
    "    [0, 0, 0],\n",
    "    [1, 0, 0],\n",
    "    [1, 0, 0],\n",
    "]\n",
    "\n",
    "example_2 = [\n",
    "    [0, 0, 0],\n",
    "    [1, 0, 1],\n",
    "    [1, 0, 0],\n",
    "]\n",
    "\n",
    "example_3 = [\n",
    "    [0, 0, 0],\n",
    "    [1, 0, 0],\n",
    "    [1, 1, 0],\n",
    "]\n",
    "\n",
    "print('Are married:', are_married(example_1, 1, 2))\n",
    "print('Are married:', are_married(example_2, 1, 2))\n",
    "print('Are married:', are_married(example_3, 1, 2))"
   ]
  },
  {
   "cell_type": "code",
   "execution_count": 70,
   "metadata": {
    "collapsed": true
   },
   "outputs": [],
   "source": [
    "def MarkovEquiv(A, B):\n",
    "    return is_skeleton_equals(A, B) and immorallities(A) == immorallities(B)"
   ]
  },
  {
   "cell_type": "markdown",
   "metadata": {},
   "source": [
    "## Exercise 3.13.\n",
    "\n",
    "The adjacency matrices of two belief networks are given below (see ABmatrices.mat). State if they are Markov equivalent."
   ]
  },
  {
   "cell_type": "code",
   "execution_count": 68,
   "metadata": {},
   "outputs": [
    {
     "data": {
      "text/plain": [
       "(matrix([[0, 0, 1, 1, 0, 1, 0, 0, 0],\n",
       "         [0, 0, 1, 0, 1, 0, 0, 0, 0],\n",
       "         [0, 0, 0, 0, 0, 0, 1, 0, 0],\n",
       "         [0, 0, 0, 0, 0, 0, 0, 1, 1],\n",
       "         [0, 0, 1, 0, 0, 0, 1, 0, 0],\n",
       "         [0, 0, 0, 1, 0, 0, 0, 1, 0],\n",
       "         [0, 0, 0, 0, 0, 0, 0, 0, 1],\n",
       "         [0, 0, 0, 0, 0, 0, 0, 0, 0],\n",
       "         [0, 0, 0, 0, 0, 0, 0, 0, 0]]),\n",
       " ' ',\n",
       " matrix([[0, 0, 1, 1, 0, 0, 0, 0, 0],\n",
       "         [0, 0, 1, 0, 0, 0, 0, 0, 0],\n",
       "         [0, 0, 0, 0, 0, 0, 1, 0, 0],\n",
       "         [0, 0, 0, 0, 0, 0, 0, 1, 1],\n",
       "         [0, 1, 1, 0, 0, 0, 1, 0, 0],\n",
       "         [1, 0, 0, 1, 0, 0, 0, 1, 0],\n",
       "         [0, 0, 0, 0, 0, 0, 0, 0, 1],\n",
       "         [0, 0, 0, 0, 0, 0, 0, 0, 0],\n",
       "         [0, 0, 0, 0, 0, 0, 0, 0, 0]]))"
      ]
     },
     "execution_count": 68,
     "metadata": {},
     "output_type": "execute_result"
    }
   ],
   "source": [
    "A = [\n",
    "    [0, 0, 1, 1, 0, 1, 0, 0, 0],\n",
    "    [0, 0, 1, 0, 1, 0, 0, 0, 0],\n",
    "    [0, 0, 0, 0, 0, 0, 1, 0, 0],\n",
    "    [0, 0, 0, 0, 0, 0, 0, 1, 1],\n",
    "    [0, 0, 1, 0, 0, 0, 1, 0, 0],\n",
    "    [0, 0, 0, 1, 0, 0, 0, 1, 0],\n",
    "    [0, 0, 0, 0, 0, 0, 0, 0, 1],\n",
    "    [0, 0, 0, 0, 0, 0, 0, 0, 0],\n",
    "    [0, 0, 0, 0, 0, 0, 0, 0, 0],\n",
    "]\n",
    "\n",
    "B = [\n",
    "    [0, 0, 1, 1, 0, 0, 0, 0, 0],\n",
    "    [0, 0, 1, 0, 0, 0, 0, 0, 0],\n",
    "    [0, 0, 0, 0, 0, 0, 1, 0, 0],\n",
    "    [0, 0, 0, 0, 0, 0, 0, 1, 1],\n",
    "    [0, 1, 1, 0, 0, 0, 1, 0, 0],\n",
    "    [1, 0, 0, 1, 0, 0, 0, 1, 0],\n",
    "    [0, 0, 0, 0, 0, 0, 0, 0, 1],\n",
    "    [0, 0, 0, 0, 0, 0, 0, 0, 0],\n",
    "    [0, 0, 0, 0, 0, 0, 0, 0, 0],\n",
    "]\n",
    "\n",
    "np.matrix(A), ' ', np.matrix(B) "
   ]
  },
  {
   "cell_type": "code",
   "execution_count": 80,
   "metadata": {},
   "outputs": [
    {
     "name": "stdout",
     "output_type": "stream",
     "text": [
      "0 1\n"
     ]
    },
    {
     "ename": "TypeError",
     "evalue": "are_married() missing 1 required positional argument: 'parent_b'",
     "output_type": "error",
     "traceback": [
      "\u001b[0;31m---------------------------------------------------------------------------\u001b[0m",
      "\u001b[0;31mTypeError\u001b[0m                                 Traceback (most recent call last)",
      "\u001b[0;32m<ipython-input-80-e00d74a2be65>\u001b[0m in \u001b[0;36m<module>\u001b[0;34m()\u001b[0m\n\u001b[0;32m----> 1\u001b[0;31m \u001b[0mMarkovEquiv\u001b[0m\u001b[0;34m(\u001b[0m\u001b[0mA\u001b[0m\u001b[0;34m,\u001b[0m \u001b[0mB\u001b[0m\u001b[0;34m)\u001b[0m\u001b[0;34m\u001b[0m\u001b[0m\n\u001b[0m",
      "\u001b[0;32m<ipython-input-70-25273567f164>\u001b[0m in \u001b[0;36mMarkovEquiv\u001b[0;34m(A, B)\u001b[0m\n\u001b[1;32m      1\u001b[0m \u001b[0;32mdef\u001b[0m \u001b[0mMarkovEquiv\u001b[0m\u001b[0;34m(\u001b[0m\u001b[0mA\u001b[0m\u001b[0;34m,\u001b[0m \u001b[0mB\u001b[0m\u001b[0;34m)\u001b[0m\u001b[0;34m:\u001b[0m\u001b[0;34m\u001b[0m\u001b[0m\n\u001b[0;32m----> 2\u001b[0;31m     \u001b[0;32mreturn\u001b[0m \u001b[0mis_skeleton_equals\u001b[0m\u001b[0;34m(\u001b[0m\u001b[0mA\u001b[0m\u001b[0;34m,\u001b[0m \u001b[0mB\u001b[0m\u001b[0;34m)\u001b[0m \u001b[0;32mand\u001b[0m \u001b[0mimmorallities\u001b[0m\u001b[0;34m(\u001b[0m\u001b[0mA\u001b[0m\u001b[0;34m)\u001b[0m \u001b[0;34m==\u001b[0m \u001b[0mimmorallities\u001b[0m\u001b[0;34m(\u001b[0m\u001b[0mB\u001b[0m\u001b[0;34m)\u001b[0m\u001b[0;34m\u001b[0m\u001b[0m\n\u001b[0m",
      "\u001b[0;32m<ipython-input-79-0cadef2a0c76>\u001b[0m in \u001b[0;36mimmorallities\u001b[0;34m(A)\u001b[0m\n\u001b[1;32m      8\u001b[0m         \u001b[0;32mfor\u001b[0m \u001b[0mparent_a\u001b[0m\u001b[0;34m,\u001b[0m \u001b[0mparent_b\u001b[0m \u001b[0;32min\u001b[0m \u001b[0mpair_of_parents\u001b[0m\u001b[0;34m(\u001b[0m\u001b[0mparents_A\u001b[0m\u001b[0;34m)\u001b[0m\u001b[0;34m:\u001b[0m\u001b[0;34m\u001b[0m\u001b[0m\n\u001b[1;32m      9\u001b[0m             \u001b[0mprint\u001b[0m\u001b[0;34m(\u001b[0m\u001b[0mparent_a\u001b[0m\u001b[0;34m,\u001b[0m \u001b[0mparent_b\u001b[0m\u001b[0;34m)\u001b[0m\u001b[0;34m\u001b[0m\u001b[0m\n\u001b[0;32m---> 10\u001b[0;31m             \u001b[0;32mif\u001b[0m \u001b[0;32mnot\u001b[0m \u001b[0mare_married\u001b[0m\u001b[0;34m(\u001b[0m\u001b[0mparent_a\u001b[0m\u001b[0;34m,\u001b[0m \u001b[0mparent_b\u001b[0m\u001b[0;34m)\u001b[0m\u001b[0;34m:\u001b[0m\u001b[0;34m\u001b[0m\u001b[0m\n\u001b[0m\u001b[1;32m     11\u001b[0m                 \u001b[0mimmorallities\u001b[0m\u001b[0;34m.\u001b[0m\u001b[0mappend\u001b[0m\u001b[0;34m(\u001b[0m\u001b[0mpair\u001b[0m\u001b[0;34m)\u001b[0m\u001b[0;34m\u001b[0m\u001b[0m\n\u001b[1;32m     12\u001b[0m \u001b[0;34m\u001b[0m\u001b[0m\n",
      "\u001b[0;31mTypeError\u001b[0m: are_married() missing 1 required positional argument: 'parent_b'"
     ]
    }
   ],
   "source": [
    "MarkovEquiv(A, B)"
   ]
  }
 ],
 "metadata": {
  "anaconda-cloud": {},
  "kernelspec": {
   "display_name": "Python [conda root]",
   "language": "python",
   "name": "conda-root-py"
  },
  "language_info": {
   "codemirror_mode": {
    "name": "ipython",
    "version": 3
   },
   "file_extension": ".py",
   "mimetype": "text/x-python",
   "name": "python",
   "nbconvert_exporter": "python",
   "pygments_lexer": "ipython3",
   "version": "3.5.2"
  }
 },
 "nbformat": 4,
 "nbformat_minor": 2
}
