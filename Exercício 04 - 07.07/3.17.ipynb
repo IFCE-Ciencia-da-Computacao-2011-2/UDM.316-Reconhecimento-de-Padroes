{
 "cells": [
  {
   "cell_type": "code",
   "execution_count": 6,
   "metadata": {},
   "outputs": [],
   "source": [
    "from probability.new.joint_distribution import JointDistribution\n",
    "from probability.experiment import Experiment, Occurrence"
   ]
  },
  {
   "cell_type": "code",
   "execution_count": 7,
   "metadata": {},
   "outputs": [
    {
     "data": {
      "text/plain": [
       "A  B  C\n",
       "0  0  0    0.050\n",
       "      1    0.050\n",
       "   1  0    0.025\n",
       "      1    0.025\n",
       "   2  0    0.150\n",
       "      1    0.075\n",
       "1  0  0    0.100\n",
       "      1    0.100\n",
       "   1  0    0.025\n",
       "      1    0.025\n",
       "   2  0    0.250\n",
       "      1    0.125\n",
       "Name: (A, B, C), dtype: float64"
      ]
     },
     "execution_count": 7,
     "metadata": {},
     "output_type": "execute_result"
    }
   ],
   "source": [
    "#JointDistribution()\n",
    "experiment = Experiment('A', 'B', 'C')\n",
    "\n",
    "experiment.register(Occurrence(keys=[0, 0, 0], total=3/60))\n",
    "experiment.register(Occurrence(keys=[0, 0, 1], total=30/600))\n",
    "experiment.register(Occurrence(keys=[0, 1, 0], total=3/120))\n",
    "experiment.register(Occurrence(keys=[0, 1, 1], total=2/80))\n",
    "experiment.register(Occurrence(keys=[0, 2, 0], total=90/600))\n",
    "experiment.register(Occurrence(keys=[0, 2, 1], total=30/400))\n",
    "experiment.register(Occurrence(keys=[1, 0, 0], total=6/60))\n",
    "experiment.register(Occurrence(keys=[1, 0, 1], total=60/600))\n",
    "experiment.register(Occurrence(keys=[1, 1, 0], total=3/120))\n",
    "experiment.register(Occurrence(keys=[1, 1, 1], total=2/80))\n",
    "experiment.register(Occurrence(keys=[1, 2, 0], total=30/120))\n",
    "experiment.register(Occurrence(keys=[1, 2, 1], total=10/80))\n",
    "\n",
    "experiment"
   ]
  },
  {
   "cell_type": "code",
   "execution_count": 12,
   "metadata": {},
   "outputs": [
    {
     "data": {
      "text/plain": [
       "A  B  C\n",
       "0  0  0    1/20\n",
       "      1    1/20\n",
       "   1  0    1/40\n",
       "      1    1/40\n",
       "   2  0    3/20\n",
       "      1    3/40\n",
       "1  0  0    1/10\n",
       "      1    1/10\n",
       "   1  0    1/40\n",
       "      1    1/40\n",
       "   2  0     1/4\n",
       "      1     1/8\n",
       "Name: P(A, B, C), dtype: object"
      ]
     },
     "execution_count": 12,
     "metadata": {},
     "output_type": "execute_result"
    }
   ],
   "source": [
    "p = JointDistribution.from_experiment(experiment)\n",
    "p"
   ]
  },
  {
   "cell_type": "code",
   "execution_count": 15,
   "metadata": {},
   "outputs": [
    {
     "data": {
      "text/plain": [
       "C  A\n",
       "0  0    9/40\n",
       "   1     3/8\n",
       "1  0    3/20\n",
       "   1     1/4\n",
       "Name: P(C, A), dtype: object"
      ]
     },
     "execution_count": 15,
     "metadata": {},
     "output_type": "execute_result"
    }
   ],
   "source": [
    "B = p.variables.B\n",
    "p.marginalize_out(B)"
   ]
  },
  {
   "cell_type": "code",
   "execution_count": 34,
   "metadata": {},
   "outputs": [
    {
     "data": {
      "text/plain": [
       "C  A\n",
       "0  0    9/40\n",
       "   1     3/8\n",
       "1  0    3/20\n",
       "   1     1/4\n",
       "Name: P(C, A), dtype: object"
      ]
     },
     "execution_count": 34,
     "metadata": {},
     "output_type": "execute_result"
    }
   ],
   "source": [
    "A = p.variables.A\n",
    "C = p.variables.C\n",
    "\n",
    "p(C, A)"
   ]
  },
  {
   "cell_type": "code",
   "execution_count": 32,
   "metadata": {},
   "outputs": [
    {
     "data": {
      "text/plain": [
       "A\n",
       "0    3/8\n",
       "1    5/8\n",
       "Name: P(A), dtype: object"
      ]
     },
     "execution_count": 32,
     "metadata": {},
     "output_type": "execute_result"
    }
   ],
   "source": [
    "p(A)"
   ]
  },
  {
   "cell_type": "code",
   "execution_count": 18,
   "metadata": {},
   "outputs": [
    {
     "data": {
      "text/plain": [
       "C\n",
       "0    3/5\n",
       "1    2/5\n",
       "Name: P(C), dtype: object"
      ]
     },
     "execution_count": 18,
     "metadata": {},
     "output_type": "execute_result"
    }
   ],
   "source": [
    "C = p.variables.C\n",
    "p(C)"
   ]
  },
  {
   "cell_type": "code",
   "execution_count": null,
   "metadata": {
    "collapsed": true
   },
   "outputs": [],
   "source": []
  }
 ],
 "metadata": {
  "anaconda-cloud": {},
  "kernelspec": {
   "display_name": "Python [conda root]",
   "language": "python",
   "name": "conda-root-py"
  },
  "language_info": {
   "codemirror_mode": {
    "name": "ipython",
    "version": 3
   },
   "file_extension": ".py",
   "mimetype": "text/x-python",
   "name": "python",
   "nbconvert_exporter": "python",
   "pygments_lexer": "ipython3",
   "version": "3.5.2"
  }
 },
 "nbformat": 4,
 "nbformat_minor": 2
}
