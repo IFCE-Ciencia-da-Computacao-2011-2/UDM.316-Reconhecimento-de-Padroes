{
 "cells": [
  {
   "cell_type": "markdown",
   "metadata": {},
   "source": [
    "# Probability\n",
    "\n",
    "FIXME - Convert to use pd.Series instread pd.DataFrame\n",
    "\n",
    "## Module 1 - Experiment"
   ]
  },
  {
   "cell_type": "code",
   "execution_count": 1,
   "metadata": {},
   "outputs": [
    {
     "data": {
      "text/plain": [
       "Series([], dtype: float64)"
      ]
     },
     "execution_count": 1,
     "metadata": {},
     "output_type": "execute_result"
    }
   ],
   "source": [
    "from probability.experiment import Experiment, Occurrence\n",
    "\n",
    "experiment = Experiment('Coin')\n",
    "experiment"
   ]
  },
  {
   "cell_type": "code",
   "execution_count": 2,
   "metadata": {},
   "outputs": [
    {
     "data": {
      "text/plain": [
       "Coin\n",
       "head     1\n",
       "tails    1\n",
       "dtype: int64"
      ]
     },
     "execution_count": 2,
     "metadata": {},
     "output_type": "execute_result"
    }
   ],
   "source": [
    "experiment.register(Occurrence('head'))\n",
    "experiment.register(Occurrence('tails'))\n",
    "\n",
    "experiment"
   ]
  },
  {
   "cell_type": "code",
   "execution_count": 3,
   "metadata": {},
   "outputs": [
    {
     "data": {
      "text/plain": [
       "Coin\n",
       "head     0.625\n",
       "tails    0.375\n",
       "dtype: float64"
      ]
     },
     "execution_count": 3,
     "metadata": {},
     "output_type": "execute_result"
    }
   ],
   "source": [
    "experiment = Experiment('Coin')\n",
    "\n",
    "experiment.register(Occurrence('head', 4))\n",
    "experiment.register(Occurrence('tails', 3))\n",
    "experiment.register(Occurrence('head'))\n",
    "\n",
    "experiment.calcule()"
   ]
  },
  {
   "cell_type": "code",
   "execution_count": 4,
   "metadata": {},
   "outputs": [
    {
     "data": {
      "text/plain": [
       "Coin   Ball  \n",
       "head   blue      0.2\n",
       "       red       0.5\n",
       "tails  blue      0.1\n",
       "       yellow    0.2\n",
       "dtype: float64"
      ]
     },
     "execution_count": 4,
     "metadata": {},
     "output_type": "execute_result"
    }
   ],
   "source": [
    "experiment = Experiment('Coin', 'Ball')\n",
    "\n",
    "experiment.register(Occurrence(['head', 'red'], 5))\n",
    "experiment.register(Occurrence(['tails', 'blue']))\n",
    "experiment.register(Occurrence(['tails', 'yellow'], 2))\n",
    "experiment.register(Occurrence(['head', 'blue'], 2))\n",
    "\n",
    "experiment.calcule()"
   ]
  },
  {
   "cell_type": "markdown",
   "metadata": {},
   "source": [
    "## Event and counter"
   ]
  },
  {
   "cell_type": "code",
   "execution_count": 5,
   "metadata": {},
   "outputs": [
    {
     "data": {
      "text/plain": [
       "Counter({' ': 147,\n",
       "         ',': 15,\n",
       "         '.': 17,\n",
       "         'a': 63,\n",
       "         'b': 4,\n",
       "         'c': 37,\n",
       "         'd': 28,\n",
       "         'e': 83,\n",
       "         'f': 6,\n",
       "         'g': 11,\n",
       "         'h': 4,\n",
       "         'i': 90,\n",
       "         'j': 1,\n",
       "         'l': 55,\n",
       "         'm': 38,\n",
       "         'n': 53,\n",
       "         'o': 48,\n",
       "         'p': 26,\n",
       "         'q': 14,\n",
       "         'r': 54,\n",
       "         's': 73,\n",
       "         't': 85,\n",
       "         'u': 73,\n",
       "         'v': 9,\n",
       "         'x': 1})"
      ]
     },
     "execution_count": 5,
     "metadata": {},
     "output_type": "execute_result"
    }
   ],
   "source": [
    "from collections import Counter\n",
    "\n",
    "lorem_ipsum = \"Lorem ipsum dolor sit amet, consectetur adipiscing elit. Nunc tincidunt, erat ut ultrices scelerisque, ex tortor sagittis nulla, feugiat fermentum dolor nisl sit amet arcu. Pellentesque tincidunt luctus augue, a suscipit tortor porttitor sed. Sed lacinia felis non ante sagittis, non auctor turpis mollis. In tincidunt tincidunt justo. Phasellus sed sapien ultricies, malesuada neque id, facilisis arcu. Sed volutpat nisl in iaculis varius. Donec porttitor tellus non sem volutpat, convallis ullamcorper magna vehicula. Proin dapibus risus ac erat pretium imperdiet. Vivamus mattis magna quis sem pellentesque ullamcorper. Morbi eget lorem eu ante condimentum pretium sollicitudin sit amet tortor. In eget tristique felis, sit amet tincidunt eros. Phasellus auctor id dolor a pellentesque. Nullam et eros dignissim, commodo libero vitae, malesuada purus. Cras tincidunt urna quis erat sagittis, sed porta turpis porta. Vestibulum quam nunc, aliquam aliquam ipsum quis, fermentum aliquet eros. Donec ut lorem ac dui rhoncus scelerisque.\"\n",
    "counter = Counter(lorem_ipsum.lower())\n",
    "counter"
   ]
  },
  {
   "cell_type": "code",
   "execution_count": 6,
   "metadata": {},
   "outputs": [
    {
     "data": {
      "text/plain": [
       "Letter\n",
       "     0.142029\n",
       ",    0.014493\n",
       ".    0.016425\n",
       "a    0.060870\n",
       "b    0.003865\n",
       "c    0.035749\n",
       "d    0.027053\n",
       "e    0.080193\n",
       "f    0.005797\n",
       "g    0.010628\n",
       "h    0.003865\n",
       "i    0.086957\n",
       "j    0.000966\n",
       "l    0.053140\n",
       "m    0.036715\n",
       "n    0.051208\n",
       "o    0.046377\n",
       "p    0.025121\n",
       "q    0.013527\n",
       "r    0.052174\n",
       "s    0.070531\n",
       "t    0.082126\n",
       "u    0.070531\n",
       "v    0.008696\n",
       "x    0.000966\n",
       "dtype: float64"
      ]
     },
     "execution_count": 6,
     "metadata": {},
     "output_type": "execute_result"
    }
   ],
   "source": [
    "experiment = Experiment.from_counter(counter, 'Letter')\n",
    "\n",
    "experiment.calcule()"
   ]
  },
  {
   "cell_type": "markdown",
   "metadata": {},
   "source": [
    "## Module 2 - Probability Distribution\n",
    "\n",
    "### From experiment"
   ]
  },
  {
   "cell_type": "code",
   "execution_count": 7,
   "metadata": {},
   "outputs": [
    {
     "data": {
      "text/plain": [
       "Letter\n",
       "     0.142029\n",
       ",    0.014493\n",
       ".    0.016425\n",
       "a    0.060870\n",
       "b    0.003865\n",
       "c    0.035749\n",
       "d    0.027053\n",
       "e    0.080193\n",
       "f    0.005797\n",
       "g    0.010628\n",
       "h    0.003865\n",
       "i    0.086957\n",
       "j    0.000966\n",
       "l    0.053140\n",
       "m    0.036715\n",
       "n    0.051208\n",
       "o    0.046377\n",
       "p    0.025121\n",
       "q    0.013527\n",
       "r    0.052174\n",
       "s    0.070531\n",
       "t    0.082126\n",
       "u    0.070531\n",
       "v    0.008696\n",
       "x    0.000966\n",
       "dtype: float64"
      ]
     },
     "execution_count": 7,
     "metadata": {},
     "output_type": "execute_result"
    }
   ],
   "source": [
    "from probability.probability_distribution import ProbabilityDistribution\n",
    "\n",
    "P = ProbabilityDistribution.from_experiment(experiment)\n",
    "P"
   ]
  },
  {
   "cell_type": "code",
   "execution_count": 8,
   "metadata": {},
   "outputs": [
    {
     "data": {
      "image/png": "[encoded data removed]",
      "text/plain": [
       "<matplotlib.figure.Figure at 0x7f56528ae278>"
      ]
     },
     "metadata": {},
     "output_type": "display_data"
    }
   ],
   "source": [
    "%matplotlib inline \n",
    "\n",
    "P.plot().show()"
   ]
  },
  {
   "cell_type": "markdown",
   "metadata": {},
   "source": [
    "### From joint distribution"
   ]
  },
  {
   "cell_type": "code",
   "execution_count": 9,
   "metadata": {},
   "outputs": [
    {
     "data": {
      "text/plain": [
       "Intelligence  Grade\n",
       "high          A        0.18\n",
       "              B        0.09\n",
       "              C        0.03\n",
       "low           A        0.07\n",
       "              B        0.28\n",
       "              C        0.35\n",
       "Name: probability, dtype: float64"
      ]
     },
     "execution_count": 9,
     "metadata": {},
     "output_type": "execute_result"
    }
   ],
   "source": [
    "import pandas as pd\n",
    "\n",
    "distribution = [\n",
    "    ['low',  'A', 0.07],\n",
    "    ['low',  'B', 0.28],\n",
    "    ['low',  'C', 0.35],\n",
    "    ['high', 'A', 0.18],\n",
    "    ['high', 'B', 0.09],\n",
    "    ['high', 'C', 0.03],\n",
    "]\n",
    "\n",
    "variables = ['Intelligence', 'Grade', 'probability']\n",
    "\n",
    "P = ProbabilityDistribution.from_joint_distribution(pd.DataFrame(distribution, columns=variables))\n",
    "P"
   ]
  },
  {
   "cell_type": "markdown",
   "metadata": {},
   "source": [
    "### Probability Distribution attributes"
   ]
  },
  {
   "cell_type": "code",
   "execution_count": 10,
   "metadata": {},
   "outputs": [
    {
     "data": {
      "text/plain": [
       "[Intelligence, Grade]"
      ]
     },
     "execution_count": 10,
     "metadata": {},
     "output_type": "execute_result"
    }
   ],
   "source": [
    "P.variables"
   ]
  },
  {
   "cell_type": "markdown",
   "metadata": {},
   "source": [
    "### Probability Distribution operations"
   ]
  },
  {
   "cell_type": "markdown",
   "metadata": {},
   "source": [
    "#### $P(∅) = 0$"
   ]
  },
  {
   "cell_type": "code",
   "execution_count": 11,
   "metadata": {},
   "outputs": [
    {
     "data": {
      "text/plain": [
       "0"
      ]
     },
     "execution_count": 11,
     "metadata": {},
     "output_type": "execute_result"
    }
   ],
   "source": [
    "P()"
   ]
  },
  {
   "cell_type": "markdown",
   "metadata": {},
   "source": [
    "#### $P$ given \n",
    "\n",
    "* **Event:** $P(α)$, for $α = \\{low\\}$"
   ]
  },
  {
   "cell_type": "code",
   "execution_count": 12,
   "metadata": {},
   "outputs": [],
   "source": [
    "#α = Event({'low'})\n",
    "#P(α)"
   ]
  },
  {
   "cell_type": "markdown",
   "metadata": {},
   "source": [
    "* **Variable:** $P(Intelligence=low)$ where $Intelligence$ is a variable"
   ]
  },
  {
   "cell_type": "code",
   "execution_count": 13,
   "metadata": {
    "scrolled": false
   },
   "outputs": [
    {
     "data": {
      "text/plain": [
       "0.7"
      ]
     },
     "execution_count": 13,
     "metadata": {},
     "output_type": "execute_result"
    }
   ],
   "source": [
    "Intelligence, Grade = P.variables\n",
    "# or \n",
    "#Intelligence = RandomVariable('Intelligence')\n",
    "\n",
    "P(Intelligence=='low')"
   ]
  },
  {
   "cell_type": "markdown",
   "metadata": {},
   "source": [
    "* **Variable:** $P(low)$ as a shorthand for $P(X=x)$"
   ]
  },
  {
   "cell_type": "code",
   "execution_count": 14,
   "metadata": {},
   "outputs": [
    {
     "data": {
      "text/plain": [
       "0.7"
      ]
     },
     "execution_count": 14,
     "metadata": {},
     "output_type": "execute_result"
    }
   ],
   "source": [
    "P('low')"
   ]
  },
  {
   "cell_type": "markdown",
   "metadata": {},
   "source": [
    "#### Union\n",
    "\n",
    "$P(α ∪ β) = P(α) + P(β) − P(α ∩ β)$\n",
    "\n",
    "If $α, β ∈ S$ and $α ∩ β = ∅$, then $P (α ∪ β) = P (α) + P (β)$."
   ]
  },
  {
   "cell_type": "code",
   "execution_count": 15,
   "metadata": {},
   "outputs": [],
   "source": [
    "Intelligence, Grade = P.variables\n",
    "\n",
    "#α = Event({'high'})\n",
    "#β = Event({'A', 'B'})\n",
    "\n",
    "#P(α.union(β))"
   ]
  },
  {
   "cell_type": "markdown",
   "metadata": {},
   "source": [
    "#### Intersection\n",
    "\n",
    "* $P ((X = x) ∩ (Y = y))$"
   ]
  },
  {
   "cell_type": "code",
   "execution_count": 16,
   "metadata": {},
   "outputs": [],
   "source": [
    "#P((Intelligence=='high').intersection(Grade=='B'))"
   ]
  },
  {
   "cell_type": "markdown",
   "metadata": {},
   "source": [
    " *  $P(X=x, Y=y)$"
   ]
  },
  {
   "cell_type": "code",
   "execution_count": 17,
   "metadata": {},
   "outputs": [
    {
     "data": {
      "text/plain": [
       "0.089999999999999997"
      ]
     },
     "execution_count": 17,
     "metadata": {},
     "output_type": "execute_result"
    }
   ],
   "source": [
    "Intelligence, Grade = P.variables\n",
    "\n",
    "P(Intelligence=='high', Grade=='B')"
   ]
  },
  {
   "cell_type": "markdown",
   "metadata": {},
   "source": [
    " * or just $P(x, y)$"
   ]
  },
  {
   "cell_type": "code",
   "execution_count": 18,
   "metadata": {},
   "outputs": [
    {
     "data": {
      "text/plain": [
       "0.089999999999999997"
      ]
     },
     "execution_count": 18,
     "metadata": {},
     "output_type": "execute_result"
    }
   ],
   "source": [
    "P('high', 'B')"
   ]
  },
  {
   "cell_type": "markdown",
   "metadata": {},
   "source": [
    "#### Marginal distribution\n",
    "\n",
    "* $P(X)$"
   ]
  },
  {
   "cell_type": "code",
   "execution_count": 19,
   "metadata": {},
   "outputs": [
    {
     "data": {
      "text/plain": [
       "Intelligence\n",
       "high    0.3\n",
       "low     0.7\n",
       "Name: probability, dtype: float64"
      ]
     },
     "execution_count": 19,
     "metadata": {},
     "output_type": "execute_result"
    }
   ],
   "source": [
    "P(Intelligence)"
   ]
  },
  {
   "cell_type": "markdown",
   "metadata": {},
   "source": [
    "* Language alternative"
   ]
  },
  {
   "cell_type": "code",
   "execution_count": 20,
   "metadata": {},
   "outputs": [
    {
     "data": {
      "text/plain": [
       "Intelligence\n",
       "high    0.3\n",
       "low     0.7\n",
       "Name: probability, dtype: float64"
      ]
     },
     "execution_count": 20,
     "metadata": {},
     "output_type": "execute_result"
    }
   ],
   "source": [
    "P.marginal(Intelligence)"
   ]
  },
  {
   "cell_type": "markdown",
   "metadata": {},
   "source": [
    "#### Joint distribution"
   ]
  },
  {
   "cell_type": "markdown",
   "metadata": {},
   "source": [
    "* $P(X, Y)$ where $X$ and $Y$ are variables"
   ]
  },
  {
   "cell_type": "code",
   "execution_count": 21,
   "metadata": {},
   "outputs": [
    {
     "data": {
      "text/plain": [
       "Intelligence  Grade\n",
       "high          A        0.18\n",
       "              B        0.09\n",
       "              C        0.03\n",
       "low           A        0.07\n",
       "              B        0.28\n",
       "              C        0.35\n",
       "Name: probability, dtype: float64"
      ]
     },
     "execution_count": 21,
     "metadata": {},
     "output_type": "execute_result"
    }
   ],
   "source": [
    "P(Intelligence, Grade)"
   ]
  },
  {
   "cell_type": "markdown",
   "metadata": {},
   "source": [
    "* Language alternative"
   ]
  },
  {
   "cell_type": "code",
   "execution_count": 22,
   "metadata": {},
   "outputs": [
    {
     "data": {
      "text/plain": [
       "Intelligence  Grade\n",
       "high          A        0.18\n",
       "              B        0.09\n",
       "              C        0.03\n",
       "low           A        0.07\n",
       "              B        0.28\n",
       "              C        0.35\n",
       "Name: probability, dtype: float64"
      ]
     },
     "execution_count": 22,
     "metadata": {},
     "output_type": "execute_result"
    }
   ],
   "source": [
    "P.joint_distribution(Intelligence, Grade)"
   ]
  },
  {
   "cell_type": "markdown",
   "metadata": {},
   "source": [
    "#### Conditional Probability"
   ]
  },
  {
   "cell_type": "markdown",
   "metadata": {},
   "source": [
    "* $P(Y\\ |\\ X)$: Conditional probability joint distribution"
   ]
  },
  {
   "cell_type": "code",
   "execution_count": 23,
   "metadata": {
    "scrolled": true
   },
   "outputs": [
    {
     "data": {
      "text/plain": [
       "Intelligence  Grade\n",
       "high          A        0.720000\n",
       "              B        0.243243\n",
       "              C        0.078947\n",
       "low           A        0.280000\n",
       "              B        0.756757\n",
       "              C        0.921053\n",
       "Name: probability, dtype: float64"
      ]
     },
     "execution_count": 23,
     "metadata": {},
     "output_type": "execute_result"
    }
   ],
   "source": [
    "P(Intelligence | Grade)"
   ]
  },
  {
   "cell_type": "markdown",
   "metadata": {},
   "source": [
    "* $P(Y\\ |\\ X=x)$: Conditional probability joint distribution"
   ]
  },
  {
   "cell_type": "code",
   "execution_count": 24,
   "metadata": {
    "scrolled": false
   },
   "outputs": [
    {
     "data": {
      "text/plain": [
       "Intelligence\n",
       "high    0.72\n",
       "low     0.28\n",
       "Name: probability, dtype: float64"
      ]
     },
     "execution_count": 24,
     "metadata": {},
     "output_type": "execute_result"
    }
   ],
   "source": [
    "#P(Intelligence | (Grade=='A'))  # Doesn't works yet\n",
    "P(Intelligence | Grade).series[:, 'A']"
   ]
  },
  {
   "cell_type": "markdown",
   "metadata": {},
   "source": [
    "* $P(Y=y\\ |\\ X=x)$: Probability value"
   ]
  },
  {
   "cell_type": "code",
   "execution_count": 25,
   "metadata": {},
   "outputs": [
    {
     "data": {
      "text/plain": [
       "0.71999999999999997"
      ]
     },
     "execution_count": 25,
     "metadata": {},
     "output_type": "execute_result"
    }
   ],
   "source": [
    "#P((Intelligence=='high') | (Grade=='A'))  # Doesn't works yet\n",
    "P(Intelligence | Grade).series['high', 'A']"
   ]
  },
  {
   "cell_type": "code",
   "execution_count": 26,
   "metadata": {},
   "outputs": [
    {
     "data": {
      "text/plain": [
       "0.71999999999999997"
      ]
     },
     "execution_count": 26,
     "metadata": {},
     "output_type": "execute_result"
    }
   ],
   "source": [
    "P2 = P(Intelligence | Grade)\n",
    "P2(Intelligence=='high', Grade=='A')"
   ]
  },
  {
   "cell_type": "markdown",
   "metadata": {},
   "source": [
    "#### Independence\n",
    "\n",
    "We say that an event $α$ is independent of event $β$ in $P$, denoted $P |= (α ⊥ β)$, if $P(α\\ |\\ β) =\n",
    "P(α)$ or if $P(β) = 0$."
   ]
  },
  {
   "cell_type": "code",
   "execution_count": 27,
   "metadata": {
    "scrolled": false
   },
   "outputs": [],
   "source": [
    "#P((Intelligence=='high') | (Grade=='A')) == P(Intelligence=='high') or P(Grade=='A') == 0"
   ]
  },
  {
   "cell_type": "markdown",
   "metadata": {},
   "source": [
    "#### Expectation\n",
    "#### Variance"
   ]
  },
  {
   "cell_type": "markdown",
   "metadata": {},
   "source": [
    "## Module 3 - Graphs"
   ]
  },
  {
   "cell_type": "code",
   "execution_count": 28,
   "metadata": {},
   "outputs": [
    {
     "data": {
      "text/plain": [
       "<matplotlib.axes._subplots.AxesSubplot at 0x7f564e8443c8>"
      ]
     },
     "execution_count": 28,
     "metadata": {},
     "output_type": "execute_result"
    },
    {
     "data": {
      "image/png": "[encoded data removed]",
      "text/plain": [
       "<matplotlib.figure.Figure at 0x7f564eab0d30>"
      ]
     },
     "metadata": {},
     "output_type": "display_data"
    }
   ],
   "source": [
    "P.plot()"
   ]
  },
  {
   "cell_type": "code",
   "execution_count": 29,
   "metadata": {},
   "outputs": [
    {
     "data": {
      "text/plain": [
       "<matplotlib.axes._subplots.AxesSubplot at 0x7f564e8e0668>"
      ]
     },
     "execution_count": 29,
     "metadata": {},
     "output_type": "execute_result"
    },
    {
     "data": {
      "image/png": "[encoded data removed]",
      "text/plain": [
       "<matplotlib.figure.Figure at 0x7f564e80dba8>"
      ]
     },
     "metadata": {},
     "output_type": "display_data"
    }
   ],
   "source": [
    "P(Grade, Intelligence).plot()"
   ]
  },
  {
   "cell_type": "code",
   "execution_count": 30,
   "metadata": {},
   "outputs": [
    {
     "data": {
      "text/plain": [
       "<matplotlib.text.Text at 0x7f564e6cc0b8>"
      ]
     },
     "execution_count": 30,
     "metadata": {},
     "output_type": "execute_result"
    },
    {
     "data": {
      "image/png": "[encoded data removed]",
      "text/plain": [
       "<matplotlib.figure.Figure at 0x7f564e6eacc0>"
      ]
     },
     "metadata": {},
     "output_type": "display_data"
    }
   ],
   "source": [
    "axes = P(Intelligence | Grade).plot()\n",
    "axes.set_title('$P(Intelligence\\ |\\ Grade)$')"
   ]
  }
 ],
 "metadata": {
  "anaconda-cloud": {},
  "kernelspec": {
   "display_name": "Python [conda root]",
   "language": "python",
   "name": "conda-root-py"
  },
  "language_info": {
   "codemirror_mode": {
    "name": "ipython",
    "version": 3
   },
   "file_extension": ".py",
   "mimetype": "text/x-python",
   "name": "python",
   "nbconvert_exporter": "python",
   "pygments_lexer": "ipython3",
   "version": "3.5.2"
  }
 },
 "nbformat": 4,
 "nbformat_minor": 2
}
