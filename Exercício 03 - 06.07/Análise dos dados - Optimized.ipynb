{
 "cells": [
  {
   "cell_type": "code",
   "execution_count": 1,
   "metadata": {
    "collapsed": true
   },
   "outputs": [],
   "source": [
    "import pandas as pd\n",
    "import numpy as np\n",
    "import decimal"
   ]
  },
  {
   "cell_type": "markdown",
   "metadata": {},
   "source": [
    "## Importar arquivo"
   ]
  },
  {
   "cell_type": "code",
   "execution_count": 2,
   "metadata": {
    "collapsed": true
   },
   "outputs": [],
   "source": [
    "filename = 'AllWordsOcorrences.csv'\n",
    "#filename = 'estrutura-esperada.csv'\n",
    "\n",
    "dados = pd.read_csv(filename, sep=',')\n",
    "dados.head()\n",
    "\n",
    "original_dados = dados.copy()"
   ]
  },
  {
   "cell_type": "markdown",
   "metadata": {},
   "source": [
    "## Tratar palavras"
   ]
  },
  {
   "cell_type": "code",
   "execution_count": 3,
   "metadata": {},
   "outputs": [
    {
     "data": {
      "text/html": [
       "<div>\n",
       "<table border=\"1\" class=\"dataframe\">\n",
       "  <thead>\n",
       "    <tr style=\"text-align: right;\">\n",
       "      <th></th>\n",
       "      <th>Sentiment</th>\n",
       "      <th>a</th>\n",
       "      <th>aaa</th>\n",
       "      <th>aadithya</th>\n",
       "      <th>aap</th>\n",
       "      <th>abdul</th>\n",
       "      <th>abhay</th>\n",
       "      <th>able</th>\n",
       "      <th>abnormally</th>\n",
       "      <th>aboarding</th>\n",
       "      <th>...</th>\n",
       "      <th>yummy</th>\n",
       "      <th>yyy</th>\n",
       "      <th>z</th>\n",
       "      <th>zama</th>\n",
       "      <th>zero</th>\n",
       "      <th>zinc</th>\n",
       "      <th>zodiac</th>\n",
       "      <th>zone</th>\n",
       "      <th>zones</th>\n",
       "      <th>zoo</th>\n",
       "    </tr>\n",
       "  </thead>\n",
       "  <tbody>\n",
       "    <tr>\n",
       "      <th>0</th>\n",
       "      <td>3</td>\n",
       "      <td>0</td>\n",
       "      <td>0</td>\n",
       "      <td>0</td>\n",
       "      <td>0</td>\n",
       "      <td>0</td>\n",
       "      <td>0</td>\n",
       "      <td>0</td>\n",
       "      <td>0</td>\n",
       "      <td>0</td>\n",
       "      <td>...</td>\n",
       "      <td>0</td>\n",
       "      <td>0</td>\n",
       "      <td>0</td>\n",
       "      <td>0</td>\n",
       "      <td>0</td>\n",
       "      <td>0</td>\n",
       "      <td>0</td>\n",
       "      <td>0</td>\n",
       "      <td>0</td>\n",
       "      <td>0</td>\n",
       "    </tr>\n",
       "    <tr>\n",
       "      <th>1</th>\n",
       "      <td>1</td>\n",
       "      <td>1</td>\n",
       "      <td>0</td>\n",
       "      <td>0</td>\n",
       "      <td>0</td>\n",
       "      <td>0</td>\n",
       "      <td>0</td>\n",
       "      <td>0</td>\n",
       "      <td>0</td>\n",
       "      <td>0</td>\n",
       "      <td>...</td>\n",
       "      <td>0</td>\n",
       "      <td>0</td>\n",
       "      <td>0</td>\n",
       "      <td>0</td>\n",
       "      <td>0</td>\n",
       "      <td>0</td>\n",
       "      <td>0</td>\n",
       "      <td>0</td>\n",
       "      <td>0</td>\n",
       "      <td>0</td>\n",
       "    </tr>\n",
       "    <tr>\n",
       "      <th>2</th>\n",
       "      <td>1</td>\n",
       "      <td>0</td>\n",
       "      <td>0</td>\n",
       "      <td>0</td>\n",
       "      <td>0</td>\n",
       "      <td>0</td>\n",
       "      <td>0</td>\n",
       "      <td>0</td>\n",
       "      <td>0</td>\n",
       "      <td>0</td>\n",
       "      <td>...</td>\n",
       "      <td>0</td>\n",
       "      <td>0</td>\n",
       "      <td>0</td>\n",
       "      <td>0</td>\n",
       "      <td>0</td>\n",
       "      <td>0</td>\n",
       "      <td>0</td>\n",
       "      <td>0</td>\n",
       "      <td>0</td>\n",
       "      <td>0</td>\n",
       "    </tr>\n",
       "    <tr>\n",
       "      <th>3</th>\n",
       "      <td>3</td>\n",
       "      <td>1</td>\n",
       "      <td>0</td>\n",
       "      <td>0</td>\n",
       "      <td>0</td>\n",
       "      <td>0</td>\n",
       "      <td>0</td>\n",
       "      <td>0</td>\n",
       "      <td>0</td>\n",
       "      <td>0</td>\n",
       "      <td>...</td>\n",
       "      <td>0</td>\n",
       "      <td>0</td>\n",
       "      <td>0</td>\n",
       "      <td>0</td>\n",
       "      <td>0</td>\n",
       "      <td>0</td>\n",
       "      <td>0</td>\n",
       "      <td>0</td>\n",
       "      <td>0</td>\n",
       "      <td>0</td>\n",
       "    </tr>\n",
       "    <tr>\n",
       "      <th>4</th>\n",
       "      <td>3</td>\n",
       "      <td>0</td>\n",
       "      <td>0</td>\n",
       "      <td>0</td>\n",
       "      <td>0</td>\n",
       "      <td>0</td>\n",
       "      <td>0</td>\n",
       "      <td>0</td>\n",
       "      <td>0</td>\n",
       "      <td>0</td>\n",
       "      <td>...</td>\n",
       "      <td>0</td>\n",
       "      <td>0</td>\n",
       "      <td>0</td>\n",
       "      <td>0</td>\n",
       "      <td>0</td>\n",
       "      <td>0</td>\n",
       "      <td>0</td>\n",
       "      <td>0</td>\n",
       "      <td>0</td>\n",
       "      <td>0</td>\n",
       "    </tr>\n",
       "  </tbody>\n",
       "</table>\n",
       "<p>5 rows × 6374 columns</p>\n",
       "</div>"
      ],
      "text/plain": [
       "   Sentiment  a  aaa  aadithya  aap  abdul  abhay  able  abnormally  \\\n",
       "0          3  0    0         0    0      0      0     0           0   \n",
       "1          1  1    0         0    0      0      0     0           0   \n",
       "2          1  0    0         0    0      0      0     0           0   \n",
       "3          3  1    0         0    0      0      0     0           0   \n",
       "4          3  0    0         0    0      0      0     0           0   \n",
       "\n",
       "   aboarding ...   yummy  yyy  z  zama  zero  zinc  zodiac  zone  zones  zoo  \n",
       "0          0 ...       0    0  0     0     0     0       0     0      0    0  \n",
       "1          0 ...       0    0  0     0     0     0       0     0      0    0  \n",
       "2          0 ...       0    0  0     0     0     0       0     0      0    0  \n",
       "3          0 ...       0    0  0     0     0     0       0     0      0    0  \n",
       "4          0 ...       0    0  0     0     0     0       0     0      0    0  \n",
       "\n",
       "[5 rows x 6374 columns]"
      ]
     },
     "execution_count": 3,
     "metadata": {},
     "output_type": "execute_result"
    }
   ],
   "source": [
    "import enchant\n",
    "from nltk.corpus import stopwords\n",
    "\n",
    "dictionary_en_US = enchant.Dict(\"en_US\")\n",
    "\n",
    "columns = [column for column in dados.columns if dictionary_en_US.check(column)]\n",
    "columns = [column for column in columns if column not in stopwords.words('english')]\n",
    "\n",
    "#dados = dados.filter(items=columns)\n",
    "dados.head()"
   ]
  },
  {
   "cell_type": "markdown",
   "metadata": {},
   "source": [
    "## Separar treino e teste"
   ]
  },
  {
   "cell_type": "code",
   "execution_count": 6,
   "metadata": {},
   "outputs": [],
   "source": [
    "def separar_treino_teste(proporcao):\n",
    "    total = len(dados)\n",
    "\n",
    "    treino = np.random.choice(total, int(total*proporcao), replace=False)\n",
    "    teste = set(range(total)) - set(treino)\n",
    "\n",
    "    dados_treino = dados[dados.index.isin(treino)]\n",
    "    dados_teste = dados[dados.index.isin(teste)]\n",
    "\n",
    "    return dados_treino, dados_teste\n",
    "\n",
    "dados, dados_teste = separar_treino_teste(.8)"
   ]
  },
  {
   "cell_type": "markdown",
   "metadata": {},
   "source": [
    "## Calcular probabilidades (memoização)"
   ]
  },
  {
   "cell_type": "code",
   "execution_count": 9,
   "metadata": {},
   "outputs": [
    {
     "data": {
      "text/plain": [
       "3    0.722131\n",
       "2    0.167213\n",
       "1    0.110656\n",
       "Name: Sentiment, dtype: float64"
      ]
     },
     "execution_count": 9,
     "metadata": {},
     "output_type": "execute_result"
    }
   ],
   "source": [
    "P_sentimento = dados.Sentiment.value_counts() / len(dados)\n",
    "P_sentimento"
   ]
  },
  {
   "cell_type": "code",
   "execution_count": 17,
   "metadata": {},
   "outputs": [
    {
     "data": {
      "text/html": [
       "<div>\n",
       "<table border=\"1\" class=\"dataframe\">\n",
       "  <thead>\n",
       "    <tr style=\"text-align: right;\">\n",
       "      <th></th>\n",
       "      <th>a</th>\n",
       "      <th>aaa</th>\n",
       "      <th>aadithya</th>\n",
       "      <th>aap</th>\n",
       "      <th>abdul</th>\n",
       "      <th>abhay</th>\n",
       "      <th>able</th>\n",
       "      <th>abnormally</th>\n",
       "      <th>aboarding</th>\n",
       "      <th>abode</th>\n",
       "      <th>...</th>\n",
       "      <th>yummy</th>\n",
       "      <th>yyy</th>\n",
       "      <th>z</th>\n",
       "      <th>zama</th>\n",
       "      <th>zero</th>\n",
       "      <th>zinc</th>\n",
       "      <th>zodiac</th>\n",
       "      <th>zone</th>\n",
       "      <th>zones</th>\n",
       "      <th>zoo</th>\n",
       "    </tr>\n",
       "    <tr>\n",
       "      <th>Sentiment</th>\n",
       "      <th></th>\n",
       "      <th></th>\n",
       "      <th></th>\n",
       "      <th></th>\n",
       "      <th></th>\n",
       "      <th></th>\n",
       "      <th></th>\n",
       "      <th></th>\n",
       "      <th></th>\n",
       "      <th></th>\n",
       "      <th></th>\n",
       "      <th></th>\n",
       "      <th></th>\n",
       "      <th></th>\n",
       "      <th></th>\n",
       "      <th></th>\n",
       "      <th></th>\n",
       "      <th></th>\n",
       "      <th></th>\n",
       "      <th></th>\n",
       "      <th></th>\n",
       "    </tr>\n",
       "  </thead>\n",
       "  <tbody>\n",
       "    <tr>\n",
       "      <th>1</th>\n",
       "      <td>0.051639</td>\n",
       "      <td>0.0</td>\n",
       "      <td>0.0</td>\n",
       "      <td>0.0</td>\n",
       "      <td>0.0</td>\n",
       "      <td>0.0</td>\n",
       "      <td>0.000820</td>\n",
       "      <td>0.00000</td>\n",
       "      <td>0.00000</td>\n",
       "      <td>0.0</td>\n",
       "      <td>...</td>\n",
       "      <td>0.000000</td>\n",
       "      <td>0.00000</td>\n",
       "      <td>0.0</td>\n",
       "      <td>0.00000</td>\n",
       "      <td>0.0</td>\n",
       "      <td>0.0</td>\n",
       "      <td>0.00000</td>\n",
       "      <td>0.0</td>\n",
       "      <td>0.0</td>\n",
       "      <td>0.0</td>\n",
       "    </tr>\n",
       "    <tr>\n",
       "      <th>2</th>\n",
       "      <td>0.077869</td>\n",
       "      <td>0.0</td>\n",
       "      <td>0.0</td>\n",
       "      <td>0.0</td>\n",
       "      <td>0.0</td>\n",
       "      <td>0.0</td>\n",
       "      <td>0.000820</td>\n",
       "      <td>0.00000</td>\n",
       "      <td>0.00082</td>\n",
       "      <td>0.0</td>\n",
       "      <td>...</td>\n",
       "      <td>0.000000</td>\n",
       "      <td>0.00000</td>\n",
       "      <td>0.0</td>\n",
       "      <td>0.00000</td>\n",
       "      <td>0.0</td>\n",
       "      <td>0.0</td>\n",
       "      <td>0.00000</td>\n",
       "      <td>0.0</td>\n",
       "      <td>0.0</td>\n",
       "      <td>0.0</td>\n",
       "    </tr>\n",
       "    <tr>\n",
       "      <th>3</th>\n",
       "      <td>0.312295</td>\n",
       "      <td>0.0</td>\n",
       "      <td>0.0</td>\n",
       "      <td>0.0</td>\n",
       "      <td>0.0</td>\n",
       "      <td>0.0</td>\n",
       "      <td>0.007377</td>\n",
       "      <td>0.00082</td>\n",
       "      <td>0.00000</td>\n",
       "      <td>0.0</td>\n",
       "      <td>...</td>\n",
       "      <td>0.001639</td>\n",
       "      <td>0.00082</td>\n",
       "      <td>0.0</td>\n",
       "      <td>0.00082</td>\n",
       "      <td>0.0</td>\n",
       "      <td>0.0</td>\n",
       "      <td>0.00082</td>\n",
       "      <td>0.0</td>\n",
       "      <td>0.0</td>\n",
       "      <td>0.0</td>\n",
       "    </tr>\n",
       "  </tbody>\n",
       "</table>\n",
       "<p>3 rows × 6373 columns</p>\n",
       "</div>"
      ],
      "text/plain": [
       "                  a  aaa  aadithya  aap  abdul  abhay      able  abnormally  \\\n",
       "Sentiment                                                                     \n",
       "1          0.051639  0.0       0.0  0.0    0.0    0.0  0.000820     0.00000   \n",
       "2          0.077869  0.0       0.0  0.0    0.0    0.0  0.000820     0.00000   \n",
       "3          0.312295  0.0       0.0  0.0    0.0    0.0  0.007377     0.00082   \n",
       "\n",
       "           aboarding  abode ...      yummy      yyy    z     zama  zero  zinc  \\\n",
       "Sentiment                   ...                                                 \n",
       "1            0.00000    0.0 ...   0.000000  0.00000  0.0  0.00000   0.0   0.0   \n",
       "2            0.00082    0.0 ...   0.000000  0.00000  0.0  0.00000   0.0   0.0   \n",
       "3            0.00000    0.0 ...   0.001639  0.00082  0.0  0.00082   0.0   0.0   \n",
       "\n",
       "            zodiac  zone  zones  zoo  \n",
       "Sentiment                             \n",
       "1          0.00000   0.0    0.0  0.0  \n",
       "2          0.00000   0.0    0.0  0.0  \n",
       "3          0.00082   0.0    0.0  0.0  \n",
       "\n",
       "[3 rows x 6373 columns]"
      ]
     },
     "execution_count": 17,
     "metadata": {},
     "output_type": "execute_result"
    }
   ],
   "source": [
    "def calcular_probabilidade_conjunta(dados, coluna):\n",
    "    return dados.groupby(coluna).sum() / len(dados)\n",
    "\n",
    "def calcular_probabilidade_conjunta_palavras_nao_usadas(dados, coluna):\n",
    "    conjunta = calcular_probabilidade_conjunta(dados, coluna)\n",
    "    del conjunta[coluna.name]\n",
    "    return conjunta\n",
    "\n",
    "\n",
    "class ProbabilidadeConjunta:\n",
    "    palavra_usada = calcular_probabilidade_conjunta(dados, dados.Sentiment)\n",
    "    palavra_nao_usada = calcular_probabilidade_conjunta_palavras_nao_usadas(dados == 0, dados.Sentiment)\n",
    "    \n",
    "    @staticmethod\n",
    "    def variavel(variavel):\n",
    "        P_variavel = ProbabilidadeConjunta.palavra_usada[variavel]\n",
    "        P_not_variavel = ProbabilidadeConjunta.palavra_nao_usada[variavel]\n",
    "        \n",
    "        dataframe = P_variavel.to_frame()\n",
    "        dataframe.insert(loc=1, column='not {}'.format(variavel), value=P_not_variavel)\n",
    "\n",
    "        return dataframe\n",
    "\n",
    "ProbabilidadeConjunta.palavra_usada"
   ]
  },
  {
   "cell_type": "code",
   "execution_count": 7,
   "metadata": {},
   "outputs": [
    {
     "data": {
      "text/html": [
       "<div>\n",
       "<table border=\"1\" class=\"dataframe\">\n",
       "  <thead>\n",
       "    <tr style=\"text-align: right;\">\n",
       "      <th></th>\n",
       "      <th>able</th>\n",
       "      <th>not able</th>\n",
       "    </tr>\n",
       "    <tr>\n",
       "      <th>Sentiment</th>\n",
       "      <th></th>\n",
       "      <th></th>\n",
       "    </tr>\n",
       "  </thead>\n",
       "  <tbody>\n",
       "    <tr>\n",
       "      <th>1</th>\n",
       "      <td>0.000787</td>\n",
       "      <td>0.102046</td>\n",
       "    </tr>\n",
       "    <tr>\n",
       "      <th>2</th>\n",
       "      <td>0.000787</td>\n",
       "      <td>0.177597</td>\n",
       "    </tr>\n",
       "    <tr>\n",
       "      <th>3</th>\n",
       "      <td>0.007608</td>\n",
       "      <td>0.711175</td>\n",
       "    </tr>\n",
       "  </tbody>\n",
       "</table>\n",
       "</div>"
      ],
      "text/plain": [
       "               able  not able\n",
       "Sentiment                    \n",
       "1          0.000787  0.102046\n",
       "2          0.000787  0.177597\n",
       "3          0.007608  0.711175"
      ]
     },
     "execution_count": 7,
     "metadata": {},
     "output_type": "execute_result"
    }
   ],
   "source": [
    "ProbabilidadeConjunta.variavel('able')"
   ]
  },
  {
   "cell_type": "code",
   "execution_count": 8,
   "metadata": {},
   "outputs": [
    {
     "data": {
      "text/html": [
       "<div>\n",
       "<table border=\"1\" class=\"dataframe\">\n",
       "  <thead>\n",
       "    <tr style=\"text-align: right;\">\n",
       "      <th></th>\n",
       "      <th>able</th>\n",
       "      <th>not able</th>\n",
       "    </tr>\n",
       "  </thead>\n",
       "  <tbody>\n",
       "    <tr>\n",
       "      <th>1</th>\n",
       "      <td>0.00765306122448979660871648533770894573535770...</td>\n",
       "      <td>0.99234693877551016782945225713774561882019042...</td>\n",
       "    </tr>\n",
       "    <tr>\n",
       "      <th>2</th>\n",
       "      <td>0.00441176470588235287995093614199504372663795...</td>\n",
       "      <td>0.99558823529411755171025788513361476361751556...</td>\n",
       "    </tr>\n",
       "    <tr>\n",
       "      <th>3</th>\n",
       "      <td>0.01058394160583941631670334970749536296352744...</td>\n",
       "      <td>0.98941605839416046919154723582323640584945678...</td>\n",
       "    </tr>\n",
       "  </tbody>\n",
       "</table>\n",
       "</div>"
      ],
      "text/plain": [
       "                                                able  \\\n",
       "1  0.00765306122448979660871648533770894573535770...   \n",
       "2  0.00441176470588235287995093614199504372663795...   \n",
       "3  0.01058394160583941631670334970749536296352744...   \n",
       "\n",
       "                                            not able  \n",
       "1  0.99234693877551016782945225713774561882019042...  \n",
       "2  0.99558823529411755171025788513361476361751556...  \n",
       "3  0.98941605839416046919154723582323640584945678...  "
      ]
     },
     "execution_count": 8,
     "metadata": {},
     "output_type": "execute_result"
    }
   ],
   "source": [
    "ZERO_REPLACEMENT = decimal.Decimal(0.1)\n",
    "\n",
    "def calcular_probabilidade_condicional(probabilidade_conjunta):\n",
    "    to_decimal = lambda d: decimal.Decimal(d)\n",
    "\n",
    "    condicional = probabilidade_conjunta.T / P_sentimento\n",
    "    condicional = condicional.apply(lambda series: series.apply(to_decimal))\n",
    "    condicional.replace(to_replace=0, value=ZERO_REPLACEMENT, inplace=True)\n",
    "\n",
    "    return condicional\n",
    "\n",
    "class ProbabilidadeCondicional(object):\n",
    "    palavra_usada     = calcular_probabilidade_condicional(ProbabilidadeConjunta.palavra_usada)\n",
    "    palavra_nao_usada = calcular_probabilidade_condicional(ProbabilidadeConjunta.palavra_nao_usada)\n",
    "\n",
    "    @staticmethod\n",
    "    def variavel(variavel):\n",
    "        P_variavel     = ProbabilidadeCondicional.palavra_usada.T[variavel]\n",
    "        P_not_variavel = ProbabilidadeCondicional.palavra_nao_usada.T[variavel]\n",
    "        \n",
    "        dataframe = P_variavel.to_frame()\n",
    "        dataframe.insert(loc=1, column='not {}'.format(variavel), value=P_not_variavel)\n",
    "\n",
    "        return dataframe\n",
    "\n",
    "\n",
    "#ProbabilidadeCondicional.palavra_nao_usada.head()\n",
    "ProbabilidadeCondicional.variavel('able')"
   ]
  },
  {
   "cell_type": "markdown",
   "metadata": {},
   "source": [
    "## Naive Bayes"
   ]
  },
  {
   "cell_type": "code",
   "execution_count": 9,
   "metadata": {
    "collapsed": true,
    "scrolled": true
   },
   "outputs": [],
   "source": [
    "def naive_bayes(review, sentimento):\n",
    "    # P(Sentiment=x)\n",
    "    resultado = decimal.Decimal(P_sentimento[sentimento])\n",
    "\n",
    "    # P(palavra | Sentiment=x)\n",
    "    used_words     = ProbabilidadeCondicional.palavra_usada[sentimento].loc[review == 1]\n",
    "    not_used_words = ProbabilidadeCondicional.palavra_nao_usada[sentimento].loc[review == 0]\n",
    "    \n",
    "    if not used_words.empty:\n",
    "        resultado *= used_words.product()\n",
    "    resultado *= not_used_words.product()\n",
    "\n",
    "    return resultado"
   ]
  },
  {
   "cell_type": "code",
   "execution_count": 10,
   "metadata": {
    "collapsed": true
   },
   "outputs": [],
   "source": [
    "def argmax(resultados):\n",
    "    return resultados[max(resultados.keys())]\n",
    "    \n",
    "\n",
    "def testar(dados):\n",
    "    total_corretos = 0\n",
    "\n",
    "    for index, row in dados.iterrows():\n",
    "        esperado = row[0]\n",
    "        palavras = row[1:]\n",
    "        \n",
    "        resultados = {naive_bayes(palavras, sentimento): sentimento for sentimento in [1, 2, 3]}\n",
    "\n",
    "        if esperado == argmax(resultados):\n",
    "            total_corretos += 1\n",
    "\n",
    "    return total_corretos"
   ]
  },
  {
   "cell_type": "code",
   "execution_count": 11,
   "metadata": {
    "scrolled": true
   },
   "outputs": [
    {
     "name": "stdout",
     "output_type": "stream",
     "text": [
      "114 ms ± 2.57 ms per loop (mean ± std. dev. of 7 runs, 10 loops each)\n",
      "107 ms ± 2.96 ms per loop (mean ± std. dev. of 7 runs, 10 loops each)\n",
      "65.3 ms ± 1.53 ms per loop (mean ± std. dev. of 7 runs, 10 loops each)\n"
     ]
    }
   ],
   "source": [
    "## Optimize\n",
    "def naive_bayes_pandas(review):\n",
    "    used_words     = ProbabilidadeCondicional.palavra_usada.loc[review == 1]\n",
    "    not_used_words = ProbabilidadeCondicional.palavra_nao_usada.loc[review == 0]\n",
    "    \n",
    "    return pd.concat([used_words, not_used_words], ignore_index=True).product()\n",
    "\n",
    "def naive_bayes_np(review):\n",
    "    used_words     = ProbabilidadeCondicional.palavra_usada.loc[review == 1].values\n",
    "    not_used_words = ProbabilidadeCondicional.palavra_nao_usada.loc[review == 0].values\n",
    "\n",
    "    return tuple(used_words.prod(axis=0) * not_used_words.prod(axis=0))\n",
    "\n",
    "def testar_pandas(dados):\n",
    "    return dados.T[1:].apply(naive_bayes_pandas, axis=0)\n",
    "\n",
    "def testar_pandas2(dados):\n",
    "    return dados.T[1:].apply(naive_bayes_np, axis=0).apply(pd.Series)\n",
    "\n",
    "i = 10\n",
    "\n",
    "#%load_ext line_profiler\n",
    "%timeit testar(dados.head(i))\n",
    "%timeit testar_pandas(dados.head(i))\n",
    "%timeit testar_pandas2(dados.head(i))"
   ]
  },
  {
   "cell_type": "code",
   "execution_count": 16,
   "metadata": {
    "scrolled": true
   },
   "outputs": [
    {
     "name": "stdout",
     "output_type": "stream",
     "text": [
      "1347\n",
      "0.35335781741867783\n"
     ]
    }
   ],
   "source": [
    "resultado = testar(dados)\n",
    "\n",
    "print(resultado)\n",
    "print(resultado / len(dados))"
   ]
  },
  {
   "cell_type": "code",
   "execution_count": 13,
   "metadata": {},
   "outputs": [
    {
     "name": "stdout",
     "output_type": "stream",
     "text": [
      "405\n",
      "0.42452830188679247\n"
     ]
    }
   ],
   "source": [
    "resultado_teste = testar(dados_teste)\n",
    "\n",
    "print(resultado_teste)\n",
    "print(resultado_teste / len(dados_teste))"
   ]
  },
  {
   "cell_type": "code",
   "execution_count": 14,
   "metadata": {},
   "outputs": [
    {
     "data": {
      "text/plain": [
       "<matplotlib.text.Text at 0x7fdc440b27f0>"
      ]
     },
     "execution_count": 14,
     "metadata": {},
     "output_type": "execute_result"
    },
    {
     "data": {
      "image/png": "[encoded data removed]",
      "text/plain": [
       "<matplotlib.figure.Figure at 0x7fdc440eadd8>"
      ]
     },
     "metadata": {},
     "output_type": "display_data"
    }
   ],
   "source": [
    "import seaborn as sns\n",
    "%matplotlib inline\n",
    "\n",
    "ax = (P_sentimento).plot(kind='bar')\n",
    "ax.set_title('$P\\ (Sentinent)$')"
   ]
  }
 ],
 "metadata": {
  "anaconda-cloud": {},
  "kernelspec": {
   "display_name": "Python [conda root]",
   "language": "python",
   "name": "conda-root-py"
  },
  "language_info": {
   "codemirror_mode": {
    "name": "ipython",
    "version": 3
   },
   "file_extension": ".py",
   "mimetype": "text/x-python",
   "name": "python",
   "nbconvert_exporter": "python",
   "pygments_lexer": "ipython3",
   "version": "3.5.2"
  }
 },
 "nbformat": 4,
 "nbformat_minor": 2
}
